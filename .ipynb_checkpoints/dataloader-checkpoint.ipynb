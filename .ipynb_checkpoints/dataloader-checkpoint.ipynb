{
 "cells": [
  {
   "cell_type": "markdown",
   "id": "91b7bae7",
   "metadata": {},
   "source": [
    "# divide the training set into smaller batches\n",
    "- 1 epoch means 1 forward and backward pass\n",
    "- batch size means number of training samples in 1 forward and backward pass\n",
    "- training the batch\n",
    "# So 100 samples, 20 batch size will have 1 epoch, 5 iterations\n"
   ]
  },
  {
   "cell_type": "code",
   "execution_count": 1,
   "id": "36a6887e",
   "metadata": {},
   "outputs": [],
   "source": [
    "import torch\n",
    "import torchvision\n",
    "from torch.utils.data import Dataset, DataLoader\n",
    "import numpy as np\n",
    "import math"
   ]
  },
  {
   "cell_type": "code",
   "execution_count": 3,
   "id": "93925364",
   "metadata": {},
   "outputs": [
    {
     "name": "stdout",
     "output_type": "stream",
     "text": [
      "--2024-03-07 13:42:18--  https://www.kaggle.com/datasets/sgus1318/winedata/download?datasetVersionNumber=1\n",
      "Resolving www.kaggle.com (www.kaggle.com)... 35.244.233.98\n",
      "Connecting to www.kaggle.com (www.kaggle.com)|35.244.233.98|:443... connected.\n",
      "HTTP request sent, awaiting response... 302 Found\n",
      "Location: /account/login?titleType=dataset-downloads&showDatasetDownloadSkip=False&messageId=datasetsWelcome&returnUrl=%2Fdatasets%2Fsgus1318%2Fwinedata%2Fversions%2F1%3Fresource%3Ddownload [following]\n",
      "--2024-03-07 13:42:19--  https://www.kaggle.com/account/login?titleType=dataset-downloads&showDatasetDownloadSkip=False&messageId=datasetsWelcome&returnUrl=%2Fdatasets%2Fsgus1318%2Fwinedata%2Fversions%2F1%3Fresource%3Ddownload\n",
      "Reusing existing connection to www.kaggle.com:443.\n",
      "HTTP request sent, awaiting response... 200 OK\n",
      "Length: unspecified [text/html]\n",
      "Saving to: ‘wine.csv’\n",
      "\n",
      "wine.csv                [ <=>                ]   5.30K  --.-KB/s    in 0s      \n",
      "\n",
      "2024-03-07 13:42:19 (39.7 MB/s) - ‘wine.csv’ saved [5431]\n",
      "\n"
     ]
    }
   ],
   "source": [
    "# -O for output file\n",
    "!wget https://www.kaggle.com/datasets/sgus1318/winedata/download?datasetVersionNumber=1 -O wine.csv"
   ]
  },
  {
   "cell_type": "code",
   "execution_count": 6,
   "id": "5dd57c8a",
   "metadata": {},
   "outputs": [],
   "source": [
    "class WineDataset(Dataset):\n",
    "    def __init__(self): # for data loading\n",
    "        xy = np.loadtxt(\"./wine.csv\", delimiter = \",\", dtype = np.float32, skiprows = 1)\n",
    "        self.x = torch.from_numpy(xy[:, 1:])\n",
    "        self.y = torch.from_numpy(xy[:, [0]]) # 2d array so wont require reshaping later on\n",
    "        self.n_samples = xy.shape[0]\n",
    "        \n",
    "    def __getitem__(self, index): # data lookup using index\n",
    "        return self.x[index], self.y[index]\n",
    "    \n",
    "    def __len__(self): # shape of dataset\n",
    "        return self.n_samples"
   ]
  },
  {
   "cell_type": "code",
   "execution_count": 8,
   "id": "e273dea8",
   "metadata": {},
   "outputs": [],
   "source": [
    "dataset = WineDataset()"
   ]
  },
  {
   "cell_type": "code",
   "execution_count": 9,
   "id": "44dffbdc",
   "metadata": {},
   "outputs": [
    {
     "data": {
      "text/plain": [
       "(tensor([1.4230e+01, 1.7100e+00, 2.4300e+00, 1.5600e+01, 1.2700e+02, 2.8000e+00,\n",
       "         3.0600e+00, 2.8000e-01, 2.2900e+00, 5.6400e+00, 1.0400e+00, 3.9200e+00,\n",
       "         1.0650e+03]),\n",
       " tensor([1.]))"
      ]
     },
     "execution_count": 9,
     "metadata": {},
     "output_type": "execute_result"
    }
   ],
   "source": [
    "dataset[0]"
   ]
  },
  {
   "cell_type": "code",
   "execution_count": 23,
   "id": "5a4e0015",
   "metadata": {},
   "outputs": [
    {
     "data": {
      "text/plain": [
       "(torch.Size([178, 13]), torch.Size([178, 1]))"
      ]
     },
     "execution_count": 23,
     "metadata": {},
     "output_type": "execute_result"
    }
   ],
   "source": [
    "# unpacking\n",
    "features, labels = dataset.x, dataset.y\n",
    "features.shape, labels.shape"
   ]
  },
  {
   "cell_type": "code",
   "execution_count": 13,
   "id": "75ff9e1c",
   "metadata": {},
   "outputs": [],
   "source": [
    "# for batch processing\n",
    "# num_workers will use multiple sub processes\n",
    "dataloader = DataLoader(dataset = dataset, batch_size = 4, shuffle = True, num_workers = 2)"
   ]
  },
  {
   "cell_type": "code",
   "execution_count": 15,
   "id": "6b29e4f5",
   "metadata": {},
   "outputs": [
    {
     "data": {
      "text/plain": [
       "(tensor([[1.2700e+01, 3.8700e+00, 2.4000e+00, 2.3000e+01, 1.0100e+02, 2.8300e+00,\n",
       "          2.5500e+00, 4.3000e-01, 1.9500e+00, 2.5700e+00, 1.1900e+00, 3.1300e+00,\n",
       "          4.6300e+02],\n",
       "         [1.2290e+01, 3.1700e+00, 2.2100e+00, 1.8000e+01, 8.8000e+01, 2.8500e+00,\n",
       "          2.9900e+00, 4.5000e-01, 2.8100e+00, 2.3000e+00, 1.4200e+00, 2.8300e+00,\n",
       "          4.0600e+02],\n",
       "         [1.2070e+01, 2.1600e+00, 2.1700e+00, 2.1000e+01, 8.5000e+01, 2.6000e+00,\n",
       "          2.6500e+00, 3.7000e-01, 1.3500e+00, 2.7600e+00, 8.6000e-01, 3.2800e+00,\n",
       "          3.7800e+02],\n",
       "         [1.3560e+01, 1.7100e+00, 2.3100e+00, 1.6200e+01, 1.1700e+02, 3.1500e+00,\n",
       "          3.2900e+00, 3.4000e-01, 2.3400e+00, 6.1300e+00, 9.5000e-01, 3.3800e+00,\n",
       "          7.9500e+02]]),\n",
       " tensor([[2.],\n",
       "         [2.],\n",
       "         [2.],\n",
       "         [1.]]))"
      ]
     },
     "execution_count": 15,
     "metadata": {},
     "output_type": "execute_result"
    }
   ],
   "source": [
    "# check batch size\n",
    "dataiter = iter(dataloader) # iterator\n",
    "data = next(dataiter) # fetch the next batch\n",
    "features, labels = data\n",
    "features, labels # batch size = 4"
   ]
  },
  {
   "cell_type": "code",
   "execution_count": 16,
   "id": "b02e57ff",
   "metadata": {},
   "outputs": [
    {
     "data": {
      "text/plain": [
       "(178, 45)"
      ]
     },
     "execution_count": 16,
     "metadata": {},
     "output_type": "execute_result"
    }
   ],
   "source": [
    "# training loop\n",
    "epochs = 2\n",
    "total_samples = len(dataset)\n",
    "n_iterations = math.ceil(total_samples/4) # ound a number up to the nearest integer\n",
    "total_samples, n_iterations"
   ]
  },
  {
   "cell_type": "code",
   "execution_count": 21,
   "id": "e35c5989",
   "metadata": {},
   "outputs": [
    {
     "name": "stdout",
     "output_type": "stream",
     "text": [
      "0 0 torch.Size([4, 13]) torch.Size([4, 1])\n",
      "0 1 torch.Size([4, 13]) torch.Size([4, 1])\n",
      "0 2 torch.Size([4, 13]) torch.Size([4, 1])\n",
      "0 3 torch.Size([4, 13]) torch.Size([4, 1])\n",
      "0 4 torch.Size([4, 13]) torch.Size([4, 1])\n",
      "0 5 torch.Size([4, 13]) torch.Size([4, 1])\n",
      "0 6 torch.Size([4, 13]) torch.Size([4, 1])\n",
      "0 7 torch.Size([4, 13]) torch.Size([4, 1])\n",
      "0 8 torch.Size([4, 13]) torch.Size([4, 1])\n",
      "0 9 torch.Size([4, 13]) torch.Size([4, 1])\n",
      "0 10 torch.Size([4, 13]) torch.Size([4, 1])\n",
      "0 11 torch.Size([4, 13]) torch.Size([4, 1])\n",
      "0 12 torch.Size([4, 13]) torch.Size([4, 1])\n",
      "0 13 torch.Size([4, 13]) torch.Size([4, 1])\n",
      "0 14 torch.Size([4, 13]) torch.Size([4, 1])\n",
      "0 15 torch.Size([4, 13]) torch.Size([4, 1])\n",
      "0 16 torch.Size([4, 13]) torch.Size([4, 1])\n",
      "0 17 torch.Size([4, 13]) torch.Size([4, 1])\n",
      "0 18 torch.Size([4, 13]) torch.Size([4, 1])\n",
      "0 19 torch.Size([4, 13]) torch.Size([4, 1])\n",
      "0 20 torch.Size([4, 13]) torch.Size([4, 1])\n",
      "0 21 torch.Size([4, 13]) torch.Size([4, 1])\n",
      "0 22 torch.Size([4, 13]) torch.Size([4, 1])\n",
      "0 23 torch.Size([4, 13]) torch.Size([4, 1])\n",
      "0 24 torch.Size([4, 13]) torch.Size([4, 1])\n",
      "0 25 torch.Size([4, 13]) torch.Size([4, 1])\n",
      "0 26 torch.Size([4, 13]) torch.Size([4, 1])\n",
      "0 27 torch.Size([4, 13]) torch.Size([4, 1])\n",
      "0 28 torch.Size([4, 13]) torch.Size([4, 1])\n",
      "0 29 torch.Size([4, 13]) torch.Size([4, 1])\n",
      "0 30 torch.Size([4, 13]) torch.Size([4, 1])\n",
      "0 31 torch.Size([4, 13]) torch.Size([4, 1])\n",
      "0 32 torch.Size([4, 13]) torch.Size([4, 1])\n",
      "0 33 torch.Size([4, 13]) torch.Size([4, 1])\n",
      "0 34 torch.Size([4, 13]) torch.Size([4, 1])\n",
      "0 35 torch.Size([4, 13]) torch.Size([4, 1])\n",
      "0 36 torch.Size([4, 13]) torch.Size([4, 1])\n",
      "0 37 torch.Size([4, 13]) torch.Size([4, 1])\n",
      "0 38 torch.Size([4, 13]) torch.Size([4, 1])\n",
      "0 39 torch.Size([4, 13]) torch.Size([4, 1])\n",
      "0 40 torch.Size([4, 13]) torch.Size([4, 1])\n",
      "0 41 torch.Size([4, 13]) torch.Size([4, 1])\n",
      "0 42 torch.Size([4, 13]) torch.Size([4, 1])\n",
      "0 43 torch.Size([4, 13]) torch.Size([4, 1])\n",
      "0 44 torch.Size([2, 13]) torch.Size([2, 1])\n",
      "1 0 torch.Size([4, 13]) torch.Size([4, 1])\n",
      "1 1 torch.Size([4, 13]) torch.Size([4, 1])\n",
      "1 2 torch.Size([4, 13]) torch.Size([4, 1])\n",
      "1 3 torch.Size([4, 13]) torch.Size([4, 1])\n",
      "1 4 torch.Size([4, 13]) torch.Size([4, 1])\n",
      "1 5 torch.Size([4, 13]) torch.Size([4, 1])\n",
      "1 6 torch.Size([4, 13]) torch.Size([4, 1])\n",
      "1 7 torch.Size([4, 13]) torch.Size([4, 1])\n",
      "1 8 torch.Size([4, 13]) torch.Size([4, 1])\n",
      "1 9 torch.Size([4, 13]) torch.Size([4, 1])\n",
      "1 10 torch.Size([4, 13]) torch.Size([4, 1])\n",
      "1 11 torch.Size([4, 13]) torch.Size([4, 1])\n",
      "1 12 torch.Size([4, 13]) torch.Size([4, 1])\n",
      "1 13 torch.Size([4, 13]) torch.Size([4, 1])\n",
      "1 14 torch.Size([4, 13]) torch.Size([4, 1])\n",
      "1 15 torch.Size([4, 13]) torch.Size([4, 1])\n",
      "1 16 torch.Size([4, 13]) torch.Size([4, 1])\n",
      "1 17 torch.Size([4, 13]) torch.Size([4, 1])\n",
      "1 18 torch.Size([4, 13]) torch.Size([4, 1])\n",
      "1 19 torch.Size([4, 13]) torch.Size([4, 1])\n",
      "1 20 torch.Size([4, 13]) torch.Size([4, 1])\n",
      "1 21 torch.Size([4, 13]) torch.Size([4, 1])\n",
      "1 22 torch.Size([4, 13]) torch.Size([4, 1])\n",
      "1 23 torch.Size([4, 13]) torch.Size([4, 1])\n",
      "1 24 torch.Size([4, 13]) torch.Size([4, 1])\n",
      "1 25 torch.Size([4, 13]) torch.Size([4, 1])\n",
      "1 26 torch.Size([4, 13]) torch.Size([4, 1])\n",
      "1 27 torch.Size([4, 13]) torch.Size([4, 1])\n",
      "1 28 torch.Size([4, 13]) torch.Size([4, 1])\n",
      "1 29 torch.Size([4, 13]) torch.Size([4, 1])\n",
      "1 30 torch.Size([4, 13]) torch.Size([4, 1])\n",
      "1 31 torch.Size([4, 13]) torch.Size([4, 1])\n",
      "1 32 torch.Size([4, 13]) torch.Size([4, 1])\n",
      "1 33 torch.Size([4, 13]) torch.Size([4, 1])\n",
      "1 34 torch.Size([4, 13]) torch.Size([4, 1])\n",
      "1 35 torch.Size([4, 13]) torch.Size([4, 1])\n",
      "1 36 torch.Size([4, 13]) torch.Size([4, 1])\n",
      "1 37 torch.Size([4, 13]) torch.Size([4, 1])\n",
      "1 38 torch.Size([4, 13]) torch.Size([4, 1])\n",
      "1 39 torch.Size([4, 13]) torch.Size([4, 1])\n",
      "1 40 torch.Size([4, 13]) torch.Size([4, 1])\n",
      "1 41 torch.Size([4, 13]) torch.Size([4, 1])\n",
      "1 42 torch.Size([4, 13]) torch.Size([4, 1])\n",
      "1 43 torch.Size([4, 13]) torch.Size([4, 1])\n",
      "1 44 torch.Size([2, 13]) torch.Size([2, 1])\n"
     ]
    }
   ],
   "source": [
    "for epoch in range(epochs):\n",
    "    for i, (features, labels) in enumerate(dataloader):\n",
    "        # forward\n",
    "        # backward\n",
    "        # update\n",
    "        print(epoch, i, features.shape, labels.shape)"
   ]
  }
 ],
 "metadata": {
  "kernelspec": {
   "display_name": "Python 3 (ipykernel)",
   "language": "python",
   "name": "python3"
  },
  "language_info": {
   "codemirror_mode": {
    "name": "ipython",
    "version": 3
   },
   "file_extension": ".py",
   "mimetype": "text/x-python",
   "name": "python",
   "nbconvert_exporter": "python",
   "pygments_lexer": "ipython3",
   "version": "3.8.17"
  }
 },
 "nbformat": 4,
 "nbformat_minor": 5
}
