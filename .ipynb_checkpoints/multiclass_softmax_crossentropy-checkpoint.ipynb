{
 "cells": [
  {
   "cell_type": "code",
   "execution_count": 1,
   "id": "24a4373c",
   "metadata": {},
   "outputs": [],
   "source": [
    "import torch\n",
    "import torch.nn as nn"
   ]
  },
  {
   "cell_type": "code",
   "execution_count": 2,
   "id": "277117ae",
   "metadata": {},
   "outputs": [],
   "source": [
    "class NeuralNet2(nn.Module):\n",
    "    def __init__(self, input_size, hidden_size, num_classes):\n",
    "        super(NeuralNet2, self).__init__()\n",
    "        self.linear1 = nn.Linear(input_size, hidden_size)\n",
    "        self.relu = nn.ReLU() # activation function 0 or 1\n",
    "        self.linear2 = nn.Linear(hidden_size, num_classes) # output\n",
    "    def __forward__(self, x):\n",
    "        out = self.linear1(x)\n",
    "        out = self.relu(out)\n",
    "        out = self.linear2(out)\n",
    "        # if binary\n",
    "        # out = torch.sigmoid(out)\n",
    "        return out # no soft max"
   ]
  },
  {
   "cell_type": "code",
   "execution_count": 3,
   "id": "06ab5ae5",
   "metadata": {},
   "outputs": [],
   "source": [
    "model = NeuralNet2(28*28, 5, 3)\n",
    "criterion = nn.CrossEntropyLoss() # because multiclass, BCELoss for binary"
   ]
  }
 ],
 "metadata": {
  "kernelspec": {
   "display_name": "Python 3 (ipykernel)",
   "language": "python",
   "name": "python3"
  },
  "language_info": {
   "codemirror_mode": {
    "name": "ipython",
    "version": 3
   },
   "file_extension": ".py",
   "mimetype": "text/x-python",
   "name": "python",
   "nbconvert_exporter": "python",
   "pygments_lexer": "ipython3",
   "version": "3.8.17"
  }
 },
 "nbformat": 4,
 "nbformat_minor": 5
}
