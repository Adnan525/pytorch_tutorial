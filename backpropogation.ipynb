{
 "cells": [
  {
   "cell_type": "markdown",
   "id": "df40d25d-c550-473f-a624-e12d521d2221",
   "metadata": {},
   "source": [
    "# calculating gradient whole process has 3 parts - \n",
    "- forward pass\n",
    "- compute local grdient\n",
    "- backward pass (chain rule)"
   ]
  },
  {
   "cell_type": "code",
   "execution_count": 1,
   "id": "8f44a574-1674-4b52-8c7e-16e4a9d1403b",
   "metadata": {},
   "outputs": [],
   "source": [
    "import torch"
   ]
  },
  {
   "cell_type": "code",
   "execution_count": 7,
   "id": "2a13d6ce-f6cf-47ec-8b3c-a7ccbf667e2f",
   "metadata": {},
   "outputs": [],
   "source": [
    "x = torch.tensor(1.0)\n",
    "y = torch.tensor(2.0)\n",
    "\n",
    "# initial weight\n",
    "# x is constant and loss gradient will be calculated based on w\n",
    "w = torch.tensor(1.0, requires_grad = True) # has to be float to calculate grad"
   ]
  },
  {
   "cell_type": "code",
   "execution_count": 8,
   "id": "e9b5d4c9-5c91-4599-9506-a4ca1146cb57",
   "metadata": {},
   "outputs": [
    {
     "data": {
      "text/plain": [
       "tensor(1., grad_fn=<PowBackward0>)"
      ]
     },
     "execution_count": 8,
     "metadata": {},
     "output_type": "execute_result"
    }
   ],
   "source": [
    "# forward pass\n",
    "y_hat = w * x\n",
    "loss = (y_hat - y)**2\n",
    "loss"
   ]
  },
  {
   "cell_type": "code",
   "execution_count": 9,
   "id": "f874e32b-e7e0-4c0f-a7b6-c97b9c300680",
   "metadata": {},
   "outputs": [
    {
     "data": {
      "text/plain": [
       "tensor(-2.)"
      ]
     },
     "execution_count": 9,
     "metadata": {},
     "output_type": "execute_result"
    }
   ],
   "source": [
    "# backward pass\n",
    "# pytorch will do local gradiena and backward pass automatically\n",
    "loss.backward()\n",
    "w.grad"
   ]
  },
  {
   "cell_type": "code",
   "execution_count": null,
   "id": "81cb9831-eda2-46ab-8bc2-8a43f84880b9",
   "metadata": {},
   "outputs": [],
   "source": [
    "# update weight\n",
    "# make gradient zero\n",
    "# next forward pass"
   ]
  }
 ],
 "metadata": {
  "kernelspec": {
   "display_name": "Python 3 (ipykernel)",
   "language": "python",
   "name": "python3"
  },
  "language_info": {
   "codemirror_mode": {
    "name": "ipython",
    "version": 3
   },
   "file_extension": ".py",
   "mimetype": "text/x-python",
   "name": "python",
   "nbconvert_exporter": "python",
   "pygments_lexer": "ipython3",
   "version": "3.10.13"
  }
 },
 "nbformat": 4,
 "nbformat_minor": 5
}
