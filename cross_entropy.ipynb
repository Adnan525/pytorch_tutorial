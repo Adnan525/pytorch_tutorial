{
 "cells": [
  {
   "cell_type": "code",
   "execution_count": 1,
   "id": "8cad6cfb",
   "metadata": {},
   "outputs": [],
   "source": [
    "import torch\n",
    "import torch.nn as nn\n",
    "import numpy as np"
   ]
  },
  {
   "cell_type": "code",
   "execution_count": 2,
   "id": "0c839639",
   "metadata": {},
   "outputs": [],
   "source": [
    "def cross_entropy(actual, predicted):\n",
    "    loss = -np.sum(actual*np.log(predicted))\n",
    "    return loss # divide by the number of samples is to normalize"
   ]
  },
  {
   "cell_type": "code",
   "execution_count": 3,
   "id": "3390413c",
   "metadata": {},
   "outputs": [],
   "source": [
    "Y = np.array([1, 0, 0])"
   ]
  },
  {
   "cell_type": "code",
   "execution_count": 4,
   "id": "3edd3bf6",
   "metadata": {},
   "outputs": [],
   "source": [
    "y_pred_good = np.array([0.7, 0.2, 0.1])\n",
    "y_pred_bad =  np.array([0.1, 0.3, 0.6])"
   ]
  },
  {
   "cell_type": "code",
   "execution_count": 5,
   "id": "3ceb5705",
   "metadata": {},
   "outputs": [
    {
     "data": {
      "text/plain": [
       "(0.35667494393873245, 2.3025850929940455)"
      ]
     },
     "execution_count": 5,
     "metadata": {},
     "output_type": "execute_result"
    }
   ],
   "source": [
    "l1 = cross_entropy(Y, y_pred_good)\n",
    "l2 = cross_entropy(Y, y_pred_bad)\n",
    "l1, l2"
   ]
  },
  {
   "cell_type": "markdown",
   "id": "2b788a1f",
   "metadata": {},
   "source": [
    "# with pytorch\n",
    "loss = nn.CrossEntropyLoss()\n",
    " - dont need to do one hot coding, only class label\n",
    " - dont need to do softmax, cross entropyloss itself does softmax\n",
    " - nn.LogSoftmax + nn.NLLLoss"
   ]
  },
  {
   "cell_type": "code",
   "execution_count": 39,
   "id": "ee4577e8",
   "metadata": {},
   "outputs": [],
   "source": [
    "loss = nn.CrossEntropyLoss()\n",
    "Y = torch.tensor([2, 0, 1]) # class label will be scalar or long --int\n",
    "y_pred_good = torch.tensor([[2.0, 1.0, 2.1],\n",
    "                           [2.0, 1.0, 0.1],\n",
    "                           [2.0, 10.0, 0.1]], dtype = torch.float32) # no softmax, ,size will n_samples * n_classes\n",
    "y_pred_bad = torch.tensor([[0.5, 2.0, 0.3],\n",
    "                          [0.5, 2.0, 0.3],\n",
    "                          [0.5, 2.0, 0.3]], dtype = torch.float32)"
   ]
  },
  {
   "cell_type": "code",
   "execution_count": 41,
   "id": "df9adda1",
   "metadata": {},
   "outputs": [
    {
     "data": {
      "text/plain": [
       "(tensor(0.4076), tensor(1.4073))"
      ]
     },
     "execution_count": 41,
     "metadata": {},
     "output_type": "execute_result"
    }
   ],
   "source": [
    "l1 = loss(y_pred_good, Y)\n",
    "l2 = loss(y_pred_bad, Y)\n",
    "l1, l2"
   ]
  },
  {
   "cell_type": "code",
   "execution_count": 42,
   "id": "7a478092",
   "metadata": {},
   "outputs": [
    {
     "data": {
      "text/plain": [
       "tensor([2, 0, 1])"
      ]
     },
     "execution_count": 42,
     "metadata": {},
     "output_type": "execute_result"
    }
   ],
   "source": [
    "_, pred1 = torch.max(y_pred_good, axis = 1)\n",
    "pred1"
   ]
  }
 ],
 "metadata": {
  "kernelspec": {
   "display_name": "Python 3 (ipykernel)",
   "language": "python",
   "name": "python3"
  },
  "language_info": {
   "codemirror_mode": {
    "name": "ipython",
    "version": 3
   },
   "file_extension": ".py",
   "mimetype": "text/x-python",
   "name": "python",
   "nbconvert_exporter": "python",
   "pygments_lexer": "ipython3",
   "version": "3.10.13"
  }
 },
 "nbformat": 4,
 "nbformat_minor": 5
}
