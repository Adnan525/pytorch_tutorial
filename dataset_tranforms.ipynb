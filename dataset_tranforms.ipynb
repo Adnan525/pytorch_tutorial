{
 "cells": [
  {
   "cell_type": "code",
   "execution_count": 3,
   "id": "0662a660",
   "metadata": {},
   "outputs": [],
   "source": [
    "import torch\n",
    "import torchvision\n",
    "from torch.utils.data import Dataset, DataLoader\n",
    "import numpy as np\n",
    "import math"
   ]
  },
  {
   "cell_type": "markdown",
   "id": "f0330456",
   "metadata": {},
   "source": [
    "transformations can be applied either in the __init__ method or in the __getitem__ method of your WineDataset class, depending on your specific requirements and the nature of the transformations.\n",
    "\n",
    "- Apply transformations in __init__: If  transformations are applied to the entire dataset and do not vary between different samples, we can apply them in the __init__ method. This approach is suitable for transformations such as normalization, resizing, or data augmentation.\n",
    "\n",
    "- Apply transformations in __getitem__: If transformations need to be applied differently to each sample or if they depend on the index or any other sample-specific information, we should apply them in the __getitem__ method. This approach is useful for transformations that involve randomization or require access to individual samples."
   ]
  },
  {
   "cell_type": "code",
   "execution_count": 26,
   "id": "783db896",
   "metadata": {},
   "outputs": [],
   "source": [
    "class WineDataset(Dataset):\n",
    "    def __init__(self, transform = None):\n",
    "        xy = np.loadtxt(\"./wine.csv\", delimiter=\",\", dtype=np.float32, skiprows=1)\n",
    "        self.n_samples = xy.shape[0]\n",
    "        self.x = xy[:, 1:]\n",
    "        self.y = xy[:, [0]]\n",
    "        # transform\n",
    "        self.transform = transform\n",
    "    \n",
    "    def __getitem__(self, index):\n",
    "        sample = self.x[index], self.y[index]\n",
    "        if self.transform:\n",
    "            sample = self.transform(sample)\n",
    "        return sample\n",
    "    \n",
    "    def __len__(self):\n",
    "        return self.n_samples"
   ]
  },
  {
   "cell_type": "code",
   "execution_count": 27,
   "id": "e5450f4a",
   "metadata": {},
   "outputs": [],
   "source": [
    "class ToTensor:\n",
    "    def __call__(self, sample):\n",
    "        inputs, labels = sample\n",
    "        return torch.from_numpy(inputs), torch.from_numpy(labels)"
   ]
  },
  {
   "cell_type": "code",
   "execution_count": 31,
   "id": "168edac1",
   "metadata": {},
   "outputs": [],
   "source": [
    "class MulTransform:\n",
    "    def __init__(self, factor):\n",
    "        self.factor = factor\n",
    "    def __call__(self, sample):\n",
    "        inputs, labels = sample\n",
    "        inputs *= self.factor\n",
    "        return inputs, labels"
   ]
  },
  {
   "cell_type": "code",
   "execution_count": 28,
   "id": "56f07ed0",
   "metadata": {},
   "outputs": [],
   "source": [
    "dataset = WineDataset(transform = ToTensor())"
   ]
  },
  {
   "cell_type": "code",
   "execution_count": 29,
   "id": "9181c8f1",
   "metadata": {},
   "outputs": [
    {
     "data": {
      "text/plain": [
       "(tensor([1.4230e+01, 1.7100e+00, 2.4300e+00, 1.5600e+01, 1.2700e+02, 2.8000e+00,\n",
       "         3.0600e+00, 2.8000e-01, 2.2900e+00, 5.6400e+00, 1.0400e+00, 3.9200e+00,\n",
       "         1.0650e+03]),\n",
       " tensor([1.]))"
      ]
     },
     "execution_count": 29,
     "metadata": {},
     "output_type": "execute_result"
    }
   ],
   "source": [
    "item = dataset[0]\n",
    "features, labels = item\n",
    "features, labels"
   ]
  },
  {
   "cell_type": "code",
   "execution_count": 30,
   "id": "03f696e0",
   "metadata": {},
   "outputs": [
    {
     "name": "stdout",
     "output_type": "stream",
     "text": [
      "<class 'torch.Tensor'>\n"
     ]
    }
   ],
   "source": [
    "print(type(features))"
   ]
  },
  {
   "cell_type": "markdown",
   "id": "13ed3a0b",
   "metadata": {},
   "source": [
    "# trying MulTransform"
   ]
  },
  {
   "cell_type": "code",
   "execution_count": 32,
   "id": "8f3ddc62",
   "metadata": {},
   "outputs": [],
   "source": [
    "dataset_mul_transform = WineDataset(transform = MulTransform(2))"
   ]
  },
  {
   "cell_type": "code",
   "execution_count": 34,
   "id": "0386b8b8",
   "metadata": {},
   "outputs": [
    {
     "data": {
      "text/plain": [
       "(array([2.846e+01, 3.420e+00, 4.860e+00, 3.120e+01, 2.540e+02, 5.600e+00,\n",
       "        6.120e+00, 5.600e-01, 4.580e+00, 1.128e+01, 2.080e+00, 7.840e+00,\n",
       "        2.130e+03], dtype=float32),\n",
       " array([1.], dtype=float32))"
      ]
     },
     "execution_count": 34,
     "metadata": {},
     "output_type": "execute_result"
    }
   ],
   "source": [
    "dataset_mul_transform[0]"
   ]
  },
  {
   "cell_type": "code",
   "execution_count": 36,
   "id": "216e5536",
   "metadata": {},
   "outputs": [
    {
     "data": {
      "text/plain": [
       "(tensor([1.4230e+01, 1.7100e+00, 2.4300e+00, 1.5600e+01, 1.2700e+02, 2.8000e+00,\n",
       "         3.0600e+00, 2.8000e-01, 2.2900e+00, 5.6400e+00, 1.0400e+00, 3.9200e+00,\n",
       "         1.0650e+03]),\n",
       " tensor([1.]))"
      ]
     },
     "execution_count": 36,
     "metadata": {},
     "output_type": "execute_result"
    }
   ],
   "source": [
    "dataset[0]"
   ]
  },
  {
   "cell_type": "markdown",
   "id": "97288500",
   "metadata": {},
   "source": [
    "# composed tranforoms"
   ]
  },
  {
   "cell_type": "code",
   "execution_count": 38,
   "id": "5b71a173",
   "metadata": {},
   "outputs": [],
   "source": [
    "composed = torchvision.transforms.Compose([ToTensor(), MulTransform(2)])\n",
    "dataset_composed = WineDataset(transform = composed)"
   ]
  },
  {
   "cell_type": "code",
   "execution_count": 40,
   "id": "bb3d4eee",
   "metadata": {},
   "outputs": [
    {
     "data": {
      "text/plain": [
       "(tensor([2.8460e+01, 3.4200e+00, 4.8600e+00, 3.1200e+01, 2.5400e+02, 5.6000e+00,\n",
       "         6.1200e+00, 5.6000e-01, 4.5800e+00, 1.1280e+01, 2.0800e+00, 7.8400e+00,\n",
       "         2.1300e+03]),\n",
       " tensor([1.]))"
      ]
     },
     "execution_count": 40,
     "metadata": {},
     "output_type": "execute_result"
    }
   ],
   "source": [
    "item = dataset_composed[0]\n",
    "features, labels = item\n",
    "features, labels"
   ]
  }
 ],
 "metadata": {
  "kernelspec": {
   "display_name": "Python 3 (ipykernel)",
   "language": "python",
   "name": "python3"
  },
  "language_info": {
   "codemirror_mode": {
    "name": "ipython",
    "version": 3
   },
   "file_extension": ".py",
   "mimetype": "text/x-python",
   "name": "python",
   "nbconvert_exporter": "python",
   "pygments_lexer": "ipython3",
   "version": "3.8.17"
  }
 },
 "nbformat": 4,
 "nbformat_minor": 5
}
