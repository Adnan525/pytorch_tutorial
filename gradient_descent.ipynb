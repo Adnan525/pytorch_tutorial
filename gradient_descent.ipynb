{
 "cells": [
  {
   "cell_type": "markdown",
   "id": "6782b4cf-b114-4ac0-8a60-1eb6f617dacf",
   "metadata": {},
   "source": [
    "# Linear regression, calculating grad, loss, parameter update(weight) manually"
   ]
  },
  {
   "cell_type": "code",
   "execution_count": 1,
   "id": "555a5dfd-ffa4-4fc4-9d16-33e3c45f77e3",
   "metadata": {},
   "outputs": [],
   "source": [
    "import numpy as np"
   ]
  },
  {
   "cell_type": "code",
   "execution_count": 2,
   "id": "2fb94d00-3494-4b61-b1f1-4080fb929fae",
   "metadata": {},
   "outputs": [],
   "source": [
    "# function f = w * x (weight, input)\n",
    "# f = 2 * x"
   ]
  },
  {
   "cell_type": "code",
   "execution_count": 3,
   "id": "49f3fb96-263c-4f86-ae56-9ab4d356198b",
   "metadata": {},
   "outputs": [],
   "source": [
    "X = np.array([1,2,3,4], dtype = np.float32)\n",
    "Y = np.array([2,4,6,8], dtype = np.float32)\n",
    "w = 0.0 # weight"
   ]
  },
  {
   "cell_type": "code",
   "execution_count": 8,
   "id": "d87ab24b-a64f-4598-b68c-18a1da4f84d1",
   "metadata": {},
   "outputs": [],
   "source": [
    "# model prediction\n",
    "def forward(x):\n",
    "    return w * x # based on fucntion f = w*x"
   ]
  },
  {
   "cell_type": "code",
   "execution_count": 9,
   "id": "b5ca46a4-99b2-4c0d-b4eb-20dad0ffc22e",
   "metadata": {},
   "outputs": [],
   "source": [
    "# loss = MSE\n",
    "def loss(y, y_pred):\n",
    "    return ((y_pred - y)**2).mean()"
   ]
  },
  {
   "cell_type": "code",
   "execution_count": 10,
   "id": "23139e90-cf40-429e-bd75-7c3d13702a07",
   "metadata": {},
   "outputs": [],
   "source": [
    "# gradient\n",
    "# MSE = 1/N (w*x - y)**2\n",
    "# d_loss/dw = 1/N 2 * x * s [s = (y_pred - y) = (w*x - y)] \n",
    "def gradient(x, y, y_pred):\n",
    "    return np.dot(2*x, y_pred - y).mean()"
   ]
  },
  {
   "cell_type": "code",
   "execution_count": 11,
   "id": "a6eadf1f-8328-4ac6-9c95-6af509d41df2",
   "metadata": {},
   "outputs": [
    {
     "data": {
      "text/plain": [
       "0.0"
      ]
     },
     "execution_count": 11,
     "metadata": {},
     "output_type": "execute_result"
    }
   ],
   "source": [
    "forward(5)"
   ]
  },
  {
   "cell_type": "code",
   "execution_count": 19,
   "id": "422976b4-39ba-47c6-98e1-9b41c441ff5b",
   "metadata": {},
   "outputs": [
    {
     "name": "stdout",
     "output_type": "stream",
     "text": [
      "epoch 1 : w = 1.9999999952316283, loss = 0.00000000\n",
      "epoch 2 : w = 1.9999999952316283, loss = 0.00000000\n",
      "epoch 3 : w = 1.9999999952316283, loss = 0.00000000\n",
      "epoch 4 : w = 1.9999999952316283, loss = 0.00000000\n",
      "epoch 5 : w = 1.9999999952316283, loss = 0.00000000\n",
      "epoch 6 : w = 1.9999999952316283, loss = 0.00000000\n",
      "epoch 7 : w = 1.9999999952316283, loss = 0.00000000\n",
      "epoch 8 : w = 1.9999999952316283, loss = 0.00000000\n",
      "epoch 9 : w = 1.9999999952316283, loss = 0.00000000\n",
      "epoch 10 : w = 1.9999999952316283, loss = 0.00000000\n",
      "epoch 11 : w = 1.9999999952316283, loss = 0.00000000\n",
      "epoch 12 : w = 1.9999999952316283, loss = 0.00000000\n",
      "epoch 13 : w = 1.9999999952316283, loss = 0.00000000\n",
      "epoch 14 : w = 1.9999999952316283, loss = 0.00000000\n",
      "epoch 15 : w = 1.9999999952316283, loss = 0.00000000\n",
      "epoch 16 : w = 1.9999999952316283, loss = 0.00000000\n",
      "epoch 17 : w = 1.9999999952316283, loss = 0.00000000\n",
      "epoch 18 : w = 1.9999999952316283, loss = 0.00000000\n",
      "epoch 19 : w = 1.9999999952316283, loss = 0.00000000\n",
      "epoch 20 : w = 1.9999999952316283, loss = 0.00000000\n",
      "prediction : 9.999999976158142\n",
      "prediction : 10.000\n"
     ]
    }
   ],
   "source": [
    "# training\n",
    "lr = 0.01\n",
    "iter = 20\n",
    "# basically this iteration is to optimize weight\n",
    "for epoch in range(iter):\n",
    "    y_pred = forward(X)\n",
    "    l = loss(Y, y_pred)\n",
    "    grad = gradient(X, Y, y_pred)\n",
    "    # update weight \n",
    "    w -= lr * grad # from gradient descent\n",
    "    print(f\"epoch {epoch + 1} : w = {w}, loss = {l:.8f}\")\n",
    "print(f\"prediction : {forward(5)}\")\n",
    "print(f\"prediction : {forward(5):.3f}\")\n",
    "    "
   ]
  },
  {
   "cell_type": "markdown",
   "id": "f0a47156-502c-4ebd-9703-1829e41e0274",
   "metadata": {},
   "source": [
    "# Using autograd to calculate gradient"
   ]
  },
  {
   "cell_type": "code",
   "execution_count": 20,
   "id": "91330004-5c49-4e17-87e3-4f55ec2d970e",
   "metadata": {},
   "outputs": [],
   "source": [
    "import torch"
   ]
  },
  {
   "cell_type": "code",
   "execution_count": 21,
   "id": "84ca9405-e283-43da-83a2-c86eb9135ccc",
   "metadata": {},
   "outputs": [],
   "source": [
    "X = torch.tensor([1,2,3,4], dtype = torch.float32)\n",
    "Y = torch.tensor([2,4,6,8], dtype = torch.float32)\n",
    "w = torch.tensor([0.0], dtype = torch.float32, requires_grad = True)"
   ]
  },
  {
   "cell_type": "code",
   "execution_count": 24,
   "id": "4d8d2f8d-d091-45f5-ad1a-870fe676b13a",
   "metadata": {},
   "outputs": [
    {
     "name": "stdout",
     "output_type": "stream",
     "text": [
      "epoch 1 : w = tensor([1.9341], requires_grad=True), loss = 0.04507\n",
      "epoch 2 : w = tensor([1.9440], requires_grad=True), loss = 0.03256\n",
      "epoch 3 : w = tensor([1.9524], requires_grad=True), loss = 0.02353\n",
      "epoch 4 : w = tensor([1.9595], requires_grad=True), loss = 0.01700\n",
      "epoch 5 : w = tensor([1.9656], requires_grad=True), loss = 0.01228\n",
      "epoch 6 : w = tensor([1.9708], requires_grad=True), loss = 0.00887\n",
      "epoch 7 : w = tensor([1.9751], requires_grad=True), loss = 0.00641\n",
      "epoch 8 : w = tensor([1.9789], requires_grad=True), loss = 0.00463\n",
      "epoch 9 : w = tensor([1.9820], requires_grad=True), loss = 0.00335\n",
      "epoch 10 : w = tensor([1.9847], requires_grad=True), loss = 0.00242\n",
      "epoch 11 : w = tensor([1.9870], requires_grad=True), loss = 0.00175\n",
      "epoch 12 : w = tensor([1.9890], requires_grad=True), loss = 0.00126\n",
      "epoch 13 : w = tensor([1.9906], requires_grad=True), loss = 0.00091\n",
      "epoch 14 : w = tensor([1.9920], requires_grad=True), loss = 0.00066\n",
      "epoch 15 : w = tensor([1.9932], requires_grad=True), loss = 0.00048\n",
      "epoch 16 : w = tensor([1.9942], requires_grad=True), loss = 0.00034\n",
      "epoch 17 : w = tensor([1.9951], requires_grad=True), loss = 0.00025\n",
      "epoch 18 : w = tensor([1.9958], requires_grad=True), loss = 0.00018\n",
      "epoch 19 : w = tensor([1.9965], requires_grad=True), loss = 0.00013\n",
      "epoch 20 : w = tensor([1.9970], requires_grad=True), loss = 0.00009\n",
      "prediction : tensor([9.9850], grad_fn=<MulBackward0>)\n"
     ]
    }
   ],
   "source": [
    "# same forward\n",
    "# same loss\n",
    "\n",
    "# training\n",
    "lr = 0.01\n",
    "iter = 20\n",
    "# basically this iteration is to optimize weight\n",
    "for epoch in range(iter):\n",
    "    y_pred = forward(X)\n",
    "    l = loss(Y, y_pred) #local derivative\n",
    "    # backwrd pass\n",
    "    l.backward()\n",
    "    # update weight\n",
    "    with torch.no_grad():\n",
    "        w -= lr * w.grad # from gradient descent\n",
    "    # reset gradiet\n",
    "    w.grad.zero_()\n",
    "    print(f\"epoch {epoch + 1} : w = {w}, loss = {l:.5f}\")\n",
    "print(f\"prediction : {forward(5)}\")"
   ]
  }
 ],
 "metadata": {
  "kernelspec": {
   "display_name": "Python 3 (ipykernel)",
   "language": "python",
   "name": "python3"
  },
  "language_info": {
   "codemirror_mode": {
    "name": "ipython",
    "version": 3
   },
   "file_extension": ".py",
   "mimetype": "text/x-python",
   "name": "python",
   "nbconvert_exporter": "python",
   "pygments_lexer": "ipython3",
   "version": "3.10.13"
  }
 },
 "nbformat": 4,
 "nbformat_minor": 5
}
