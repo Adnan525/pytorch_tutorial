{
 "cells": [
  {
   "cell_type": "markdown",
   "id": "eb3bb243-d753-46ce-b17a-7d837541b9fa",
   "metadata": {},
   "source": [
    "# 1. Design model\n",
    "# 2. get loss\n",
    "# 3. get optimizer\n",
    "# 4. training loop : \n",
    "- forward pass : prediction and loss\n",
    "- backward pass : compute gradient\n",
    "- update parametre : update weight based on gradient"
   ]
  },
  {
   "cell_type": "code",
   "execution_count": 1,
   "id": "d03615d1-db23-4c2c-b0cb-230a7119a2c9",
   "metadata": {},
   "outputs": [],
   "source": [
    "import torch\n",
    "import torch.nn as nn\n",
    "import numpy as np\n",
    "from sklearn import datasets\n",
    "import matplotlib.pyplot as plt"
   ]
  },
  {
   "cell_type": "code",
   "execution_count": 2,
   "id": "11d7ec6a-f357-4f08-81a0-08b3a7d24667",
   "metadata": {},
   "outputs": [],
   "source": [
    "# prepare data\n",
    "# by default numpy and double\n",
    "X, y = datasets.make_regression(n_samples = 100, n_features = 1, noise = 20, random_state = 42)\n",
    "X = torch.from_numpy(X.astype(np.float32))\n",
    "y = torch.from_numpy(y.astype(np.float32))"
   ]
  },
  {
   "cell_type": "code",
   "execution_count": 3,
   "id": "fc59df32-6f03-4ceb-81ff-5dd4ed725346",
   "metadata": {},
   "outputs": [
    {
     "data": {
      "text/plain": [
       "tensor([ 6.2687e+01, -2.3764e+01, -2.5687e+01,  7.9365e+00, -1.5475e+01,\n",
       "         3.6094e+01, -4.0794e+01, -1.0823e+01,  2.1415e+01,  2.2799e+01,\n",
       "         3.7224e+01,  8.9567e+01,  4.1551e+01,  1.5018e+01, -6.1876e+01,\n",
       "         2.1404e+01, -8.9110e+01,  1.8679e+01,  1.4234e+01, -1.2670e+02,\n",
       "         1.2823e+01,  1.5695e+00, -3.9292e+01,  1.8950e+01,  8.4121e+01,\n",
       "         6.7974e+01,  3.0328e+00,  6.9943e+00, -4.2729e+01, -7.4268e+01,\n",
       "         2.5665e+01,  4.3362e+01,  6.3743e-01, -2.1273e+01, -4.9396e+01,\n",
       "        -1.6240e+01, -2.7917e+01,  7.1497e-02,  6.8466e+01,  1.5671e+01,\n",
       "         3.0485e+01, -3.4745e+01,  6.0252e+01, -1.9758e+01, -5.4750e+00,\n",
       "         4.5444e+00, -1.5787e+01, -4.9537e+01,  3.3266e+01,  8.9011e+00,\n",
       "         1.8640e+00,  1.4416e+01, -5.0219e+01,  1.1638e+02,  3.4709e+01,\n",
       "         3.5220e+01,  2.6180e+01,  9.1984e+00, -7.9423e+00, -8.7755e+01,\n",
       "         4.0805e+01, -9.5718e+00, -4.2683e+01, -3.8354e+01, -6.7932e+01,\n",
       "         5.5239e+01, -8.5184e+01, -8.8515e+01, -2.3392e+01,  6.0113e+01,\n",
       "         5.4903e+01, -6.7381e+01, -6.9480e+01, -3.3488e+01, -9.0419e+00,\n",
       "         4.7057e+01,  6.5062e+01,  1.2147e+01, -6.1605e+00, -3.8230e+01,\n",
       "        -6.3062e+01,  2.0093e+01, -1.1141e+01, -4.2458e+01,  5.5248e+01,\n",
       "         7.5837e+00, -1.9967e+01, -1.0432e+01, -3.2722e+01, -1.1554e+01,\n",
       "        -6.4080e+01,  8.3113e+01,  1.8165e+01, -2.1634e+01, -2.6362e+01,\n",
       "         7.8854e+01, -8.2466e+01, -4.7757e+01,  1.1684e+01, -3.0250e+01])"
      ]
     },
     "execution_count": 3,
     "metadata": {},
     "output_type": "execute_result"
    }
   ],
   "source": [
    "y # just 1 row"
   ]
  },
  {
   "cell_type": "code",
   "execution_count": 4,
   "id": "9c66c67d-7b8e-4e14-9945-c763d51f7ce5",
   "metadata": {},
   "outputs": [
    {
     "data": {
      "text/plain": [
       "torch.Size([100, 1])"
      ]
     },
     "execution_count": 4,
     "metadata": {},
     "output_type": "execute_result"
    }
   ],
   "source": [
    "y = y.view(y.shape[0], 1) # row, column\n",
    "y.shape"
   ]
  },
  {
   "cell_type": "code",
   "execution_count": 5,
   "id": "fb3c1478-7898-4cb5-a58d-a7f4f1c3895c",
   "metadata": {},
   "outputs": [
    {
     "data": {
      "text/plain": [
       "torch.Size([100, 1])"
      ]
     },
     "execution_count": 5,
     "metadata": {},
     "output_type": "execute_result"
    }
   ],
   "source": [
    "X.shape"
   ]
  },
  {
   "cell_type": "code",
   "execution_count": 8,
   "id": "f1a2dbf4-8798-47b4-9a27-d03b5c783b1f",
   "metadata": {},
   "outputs": [],
   "source": [
    "model = nn.Linear(X.shape[1], 1) #n_features, output\n",
    "# loss\n",
    "criterion = nn.MSELoss()\n",
    "# optimizer\n",
    "optimizer = torch.optim.SGD(model.parameters(), lr = 0.01)"
   ]
  },
  {
   "cell_type": "code",
   "execution_count": 12,
   "id": "6663b7a1-7d9b-4926-abb5-3fe70498655f",
   "metadata": {},
   "outputs": [
    {
     "name": "stdout",
     "output_type": "stream",
     "text": [
      "Epoch : 10, loss = 314.235107421875\n",
      "Epoch : 20, loss = 313.6879577636719\n",
      "Epoch : 30, loss = 313.2894287109375\n",
      "Epoch : 40, loss = 312.9990539550781\n",
      "Epoch : 50, loss = 312.78741455078125\n",
      "Epoch : 60, loss = 312.63311767578125\n",
      "Epoch : 70, loss = 312.5205993652344\n",
      "Epoch : 80, loss = 312.43853759765625\n",
      "Epoch : 90, loss = 312.37872314453125\n",
      "Epoch : 100, loss = 312.3349914550781\n"
     ]
    }
   ],
   "source": [
    "# loop\n",
    "for epoch in range(100):\n",
    "    y_pred = model(X)\n",
    "    loss = criterion(y, y_pred)\n",
    "    loss.backward()\n",
    "    optimizer.step()\n",
    "    optimizer.zero_grad()\n",
    "    if (epoch+1) % 10 == 0:\n",
    "        print(f\"Epoch : {epoch+1}, loss = {loss.item()}\")"
   ]
  },
  {
   "cell_type": "code",
   "execution_count": 16,
   "id": "96aa28e3-1664-455a-b3ea-545f2b88e91d",
   "metadata": {},
   "outputs": [],
   "source": [
    "history = model(X).detach().numpy() # we dont want to update parameteres anymore so dont want to calculate grad"
   ]
  },
  {
   "cell_type": "code",
   "execution_count": 24,
   "id": "a6bbc6c3-e711-43c7-b33b-1a706f1e67f7",
   "metadata": {},
   "outputs": [
    {
     "data": {
      "image/png": "[encoded data removed]",
      "text/plain": [
       "<Figure size 640x480 with 1 Axes>"
      ]
     },
     "metadata": {},
     "output_type": "display_data"
    }
   ],
   "source": [
    "plt.plot(X.numpy(), y.numpy(), \"bo\")\n",
    "plt.plot(X.numpy(), history, \"ro\")\n",
    "plt.show()"
   ]
  }
 ],
 "metadata": {
  "kernelspec": {
   "display_name": "Python 3 (ipykernel)",
   "language": "python",
   "name": "python3"
  },
  "language_info": {
   "codemirror_mode": {
    "name": "ipython",
    "version": 3
   },
   "file_extension": ".py",
   "mimetype": "text/x-python",
   "name": "python",
   "nbconvert_exporter": "python",
   "pygments_lexer": "ipython3",
   "version": "3.10.13"
  }
 },
 "nbformat": 4,
 "nbformat_minor": 5
}
