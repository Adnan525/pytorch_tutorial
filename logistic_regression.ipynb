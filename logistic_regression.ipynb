{
 "cells": [
  {
   "cell_type": "code",
   "execution_count": 28,
   "id": "42f6ca6f",
   "metadata": {},
   "outputs": [],
   "source": [
    "import torch\n",
    "import torch.nn as nn\n",
    "import numpy as np\n",
    "from sklearn import datasets\n",
    "from sklearn.preprocessing import StandardScaler\n",
    "from sklearn.model_selection import train_test_split"
   ]
  },
  {
   "cell_type": "code",
   "execution_count": 29,
   "id": "5c93a3d4",
   "metadata": {},
   "outputs": [
    {
     "data": {
      "text/plain": [
       "((569, 30), (569,))"
      ]
     },
     "execution_count": 29,
     "metadata": {},
     "output_type": "execute_result"
    }
   ],
   "source": [
    "# data\n",
    "df = datasets.load_breast_cancer()\n",
    "X, y = df.data, df.target\n",
    "X.shape, y.shape"
   ]
  },
  {
   "cell_type": "code",
   "execution_count": 30,
   "id": "8c208421",
   "metadata": {},
   "outputs": [],
   "source": [
    "# split\n",
    "X_train, X_test, y_train, y_test = train_test_split(X, y, test_size = 0.3, random_state = 42)"
   ]
  },
  {
   "cell_type": "code",
   "execution_count": 32,
   "id": "2258ef55",
   "metadata": {},
   "outputs": [
    {
     "data": {
      "text/plain": [
       "array([1.374e+01, 1.791e+01, 8.812e+01, 5.850e+02, 7.944e-02, 6.376e-02,\n",
       "       2.881e-02, 1.329e-02, 1.473e-01, 5.580e-02, 2.500e-01, 7.574e-01,\n",
       "       1.573e+00, 2.147e+01, 2.838e-03, 1.592e-02, 1.780e-02, 5.828e-03,\n",
       "       1.329e-02, 1.976e-03, 1.534e+01, 2.246e+01, 9.719e+01, 7.259e+02,\n",
       "       9.711e-02, 1.824e-01, 1.564e-01, 6.019e-02, 2.350e-01, 7.014e-02])"
      ]
     },
     "execution_count": 32,
     "metadata": {},
     "output_type": "execute_result"
    }
   ],
   "source": [
    "X_train[0]"
   ]
  },
  {
   "cell_type": "code",
   "execution_count": 33,
   "id": "5b8d4bfb",
   "metadata": {},
   "outputs": [],
   "source": [
    "sc = StandardScaler()\n",
    "X_train = sc.fit_transform(X_train)\n",
    "X_test = sc.transform(X_test)"
   ]
  },
  {
   "cell_type": "code",
   "execution_count": 34,
   "id": "a82dba95",
   "metadata": {},
   "outputs": [
    {
     "data": {
      "text/plain": [
       "array([-0.12348985, -0.29680142, -0.17050713, -0.20861569, -1.2016799 ,\n",
       "       -0.7731696 , -0.76231194, -0.93324109, -1.22994935, -0.94816603,\n",
       "       -0.53359339, -0.86028757, -0.61678096, -0.39177533, -1.35556152,\n",
       "       -0.52503193, -0.4817033 , -0.97940018, -0.88459317, -0.68548672,\n",
       "       -0.19761978, -0.5067476 , -0.30791001, -0.27357592, -1.50742388,\n",
       "       -0.44926047, -0.57223884, -0.84082156, -0.8563616 , -0.76574773])"
      ]
     },
     "execution_count": 34,
     "metadata": {},
     "output_type": "execute_result"
    }
   ],
   "source": [
    "X_train[0]"
   ]
  },
  {
   "cell_type": "markdown",
   "id": "e1d0876b",
   "metadata": {},
   "source": [
    "# all data are now in numpy array and type is double, convert to tensor, float32"
   ]
  },
  {
   "cell_type": "code",
   "execution_count": 35,
   "id": "9277687c",
   "metadata": {},
   "outputs": [],
   "source": [
    "X_train = torch.from_numpy(X_train.astype(np.float32))\n",
    "X_test = torch.from_numpy(X_test.astype(np.float32))\n",
    "y_train = torch.from_numpy(y_train.astype(np.float32))\n",
    "y_test = torch.from_numpy(y_test.astype(np.float32))"
   ]
  },
  {
   "cell_type": "code",
   "execution_count": 36,
   "id": "47937696",
   "metadata": {},
   "outputs": [
    {
     "data": {
      "text/plain": [
       "tensor([-0.1235, -0.2968, -0.1705, -0.2086, -1.2017, -0.7732, -0.7623, -0.9332,\n",
       "        -1.2299, -0.9482, -0.5336, -0.8603, -0.6168, -0.3918, -1.3556, -0.5250,\n",
       "        -0.4817, -0.9794, -0.8846, -0.6855, -0.1976, -0.5067, -0.3079, -0.2736,\n",
       "        -1.5074, -0.4493, -0.5722, -0.8408, -0.8564, -0.7657])"
      ]
     },
     "execution_count": 36,
     "metadata": {},
     "output_type": "execute_result"
    }
   ],
   "source": [
    "X_train[0]"
   ]
  },
  {
   "cell_type": "markdown",
   "id": "321bb189",
   "metadata": {},
   "source": [
    "# both y vals are 1d array, we want to convert them to 2d array where each val is in an array"
   ]
  },
  {
   "cell_type": "code",
   "execution_count": 37,
   "id": "71c99978",
   "metadata": {},
   "outputs": [
    {
     "data": {
      "text/plain": [
       "torch.Size([398, 1])"
      ]
     },
     "execution_count": 37,
     "metadata": {},
     "output_type": "execute_result"
    }
   ],
   "source": [
    "y_train = y_train.view(y_train.shape[0], 1)\n",
    "y_test = y_test.view(y_test.shape[0], 1)\n",
    "y_train.shape"
   ]
  },
  {
   "cell_type": "code",
   "execution_count": 38,
   "id": "a5a68528",
   "metadata": {},
   "outputs": [],
   "source": [
    "# model\n",
    "class Model(nn.Module): # nheriting from nn.Module\n",
    "    def __init__(self, n_input_features):\n",
    "        super(Model, self).__init__()\n",
    "        self.linear = nn.Linear(n_input_features, 1) # new layer - number of input features, ouotput\n",
    "    # every nn.Module subclass must implement the forward method\n",
    "    def forward(self, x):\n",
    "        \"\"\"\n",
    "            Applies the sigmoid activation function to the output of the linear layer. \n",
    "            Sigmoid squashes the output values between 0 and 1, which is often used for \n",
    "            binary classification problems.\n",
    "        \"\"\"\n",
    "        y_pred = torch.sigmoid(self.linear(x))\n",
    "        return y_pred"
   ]
  },
  {
   "cell_type": "code",
   "execution_count": 42,
   "id": "b82cc670",
   "metadata": {},
   "outputs": [],
   "source": [
    "model = Model(X_train.shape[1])\n",
    "criterion = nn.BCELoss()\n",
    "optimizer = torch.optim.SGD(model.parameters(), lr = 0.01)"
   ]
  },
  {
   "cell_type": "code",
   "execution_count": 43,
   "id": "dfa9d783",
   "metadata": {},
   "outputs": [],
   "source": [
    "history = []\n",
    "for epoch in range(100):\n",
    "    #forward\n",
    "    y_pred = model(X_train)\n",
    "    loss = criterion(y_pred, y_train)\n",
    "    history.append(loss.item())\n",
    "    #backward pass\n",
    "    loss.backward()\n",
    "    #update\n",
    "    optimizer.step()\n",
    "    optimizer.zero_grad()"
   ]
  },
  {
   "cell_type": "code",
   "execution_count": 49,
   "id": "63c89341",
   "metadata": {},
   "outputs": [
    {
     "data": {
      "image/png": "[encoded data removed]",
      "text/plain": [
       "<Figure size 640x480 with 1 Axes>"
      ]
     },
     "metadata": {},
     "output_type": "display_data"
    }
   ],
   "source": [
    "import matplotlib.pyplot as plt\n",
    "plt.plot(range(100), history)\n",
    "plt.xlabel(\"Epoch\")\n",
    "plt.ylabel(\"Loss\")\n",
    "plt.show()"
   ]
  },
  {
   "cell_type": "code",
   "execution_count": 52,
   "id": "7c8e7b6f",
   "metadata": {},
   "outputs": [],
   "source": [
    "def to_bin(num):\n",
    "    if num >= 0.5:\n",
    "        return 1\n",
    "    else:\n",
    "        return 0"
   ]
  },
  {
   "cell_type": "markdown",
   "id": "d5c894ca",
   "metadata": {},
   "source": [
    "# Model will return tenor values that still has gradient values being calculated, so detach first, convert to numpy and then we can use them"
   ]
  },
  {
   "cell_type": "code",
   "execution_count": 53,
   "id": "e8083cb2",
   "metadata": {},
   "outputs": [
    {
     "name": "stdout",
     "output_type": "stream",
     "text": [
      "Accuracy: 0.9532163742690059\n"
     ]
    }
   ],
   "source": [
    "from sklearn.metrics import accuracy_score\n",
    "\n",
    "accuracy = accuracy_score(y_test, [to_bin(n) for n in model(X_test).detach().numpy()])\n",
    "print(\"Accuracy:\", accuracy)\n"
   ]
  }
 ],
 "metadata": {
  "kernelspec": {
   "display_name": "Python 3 (ipykernel)",
   "language": "python",
   "name": "python3"
  },
  "language_info": {
   "codemirror_mode": {
    "name": "ipython",
    "version": 3
   },
   "file_extension": ".py",
   "mimetype": "text/x-python",
   "name": "python",
   "nbconvert_exporter": "python",
   "pygments_lexer": "ipython3",
   "version": "3.8.17"
  }
 },
 "nbformat": 4,
 "nbformat_minor": 5
}
