{
 "cells": [
  {
   "cell_type": "code",
   "execution_count": 1,
   "id": "2e0f7fe0-77a1-4036-8640-800e71023272",
   "metadata": {},
   "outputs": [],
   "source": [
    "import torch"
   ]
  },
  {
   "cell_type": "code",
   "execution_count": 4,
   "id": "9d068b64-6e85-4ef7-ad53-fd8616ca75aa",
   "metadata": {},
   "outputs": [
    {
     "name": "stdout",
     "output_type": "stream",
     "text": [
      "tensor([[2.5226e-19, 3.0885e-41, 2.5012e-19],\n",
      "        [3.0885e-41, 4.4842e-44, 0.0000e+00]])\n"
     ]
    }
   ],
   "source": [
    "# pytorch uses tensor not numpy arrays\n",
    "x = torch.empty(2,3) # parameter = number of values in tensor\n",
    "print(x)"
   ]
  },
  {
   "cell_type": "code",
   "execution_count": 9,
   "id": "bdcf8bf6-719a-4b30-af3a-04c2e42c8e73",
   "metadata": {},
   "outputs": [
    {
     "data": {
      "text/plain": [
       "tensor([[0.9246, 0.0412],\n",
       "        [0.5422, 0.8380]])"
      ]
     },
     "execution_count": 9,
     "metadata": {},
     "output_type": "execute_result"
    }
   ],
   "source": [
    "x = torch.rand(2,2) # by default data type would be float\n",
    "x"
   ]
  },
  {
   "cell_type": "code",
   "execution_count": 10,
   "id": "dd8b5faa-84ca-4ad7-b960-7f8d57394c9c",
   "metadata": {},
   "outputs": [
    {
     "data": {
      "text/plain": [
       "torch.Size([2, 2])"
      ]
     },
     "execution_count": 10,
     "metadata": {},
     "output_type": "execute_result"
    }
   ],
   "source": [
    "x.size()"
   ]
  },
  {
   "cell_type": "code",
   "execution_count": 6,
   "id": "a8ae7447-28d0-461a-b23e-9f2117406ad4",
   "metadata": {},
   "outputs": [
    {
     "data": {
      "text/plain": [
       "tensor([[0., 0.],\n",
       "        [0., 0.]])"
      ]
     },
     "execution_count": 6,
     "metadata": {},
     "output_type": "execute_result"
    }
   ],
   "source": [
    "torch.zeros(2,2)"
   ]
  },
  {
   "cell_type": "code",
   "execution_count": 7,
   "id": "d32ac8bc-3536-4386-b198-e8e4467f7a8d",
   "metadata": {},
   "outputs": [
    {
     "data": {
      "text/plain": [
       "tensor([[1., 1.],\n",
       "        [1., 1.]])"
      ]
     },
     "execution_count": 7,
     "metadata": {},
     "output_type": "execute_result"
    }
   ],
   "source": [
    "torch.ones(2,2)"
   ]
  },
  {
   "cell_type": "code",
   "execution_count": 8,
   "id": "56ea0712-94b3-4d56-80a7-6db3142acbda",
   "metadata": {},
   "outputs": [
    {
     "data": {
      "text/plain": [
       "tensor([[1, 1],\n",
       "        [1, 1]], dtype=torch.int32)"
      ]
     },
     "execution_count": 8,
     "metadata": {},
     "output_type": "execute_result"
    }
   ],
   "source": [
    "torch.ones(2, 2, dtype = torch.int)"
   ]
  },
  {
   "cell_type": "code",
   "execution_count": 16,
   "id": "28b6795e-b389-44fd-b167-6134ef20dcfe",
   "metadata": {},
   "outputs": [
    {
     "data": {
      "text/plain": [
       "tensor([[2.5000, 3.0000],\n",
       "        [2.5000, 3.0000]])"
      ]
     },
     "execution_count": 16,
     "metadata": {},
     "output_type": "execute_result"
    }
   ],
   "source": [
    "torch.tensor([[2.5, 3],[2.5, 3]])"
   ]
  },
  {
   "cell_type": "markdown",
   "id": "66e26af1-2258-4bd6-8210-676a5ea57392",
   "metadata": {},
   "source": [
    "# Operations"
   ]
  },
  {
   "cell_type": "code",
   "execution_count": 19,
   "id": "e5de4278-5791-4edd-8ab1-3f96bb774887",
   "metadata": {},
   "outputs": [
    {
     "data": {
      "text/plain": [
       "(tensor([[0.3525, 0.4265],\n",
       "         [0.9383, 0.0170]]),\n",
       " tensor([[0.0991, 0.5346],\n",
       "         [0.2762, 0.9501]]))"
      ]
     },
     "execution_count": 19,
     "metadata": {},
     "output_type": "execute_result"
    }
   ],
   "source": [
    "x = torch.rand(2,2)\n",
    "y = torch.rand(2,2)\n",
    "x,y"
   ]
  },
  {
   "cell_type": "code",
   "execution_count": 20,
   "id": "e4ae9e60-b93f-4fda-bfb2-07a00349425a",
   "metadata": {},
   "outputs": [
    {
     "data": {
      "text/plain": [
       "tensor([[0.4516, 0.9611],\n",
       "        [1.2145, 0.9671]])"
      ]
     },
     "execution_count": 20,
     "metadata": {},
     "output_type": "execute_result"
    }
   ],
   "source": [
    "x+y # element wise addition, also can do torch.add(x,y), torch.sub, torch.mul"
   ]
  },
  {
   "cell_type": "markdown",
   "id": "558fd26f-b873-4d13-a469-8ccdb1c73a6f",
   "metadata": {},
   "source": [
    "# Inplace operations"
   ]
  },
  {
   "cell_type": "code",
   "execution_count": 21,
   "id": "e41afc32-d5cf-49fe-a437-a79fc9739247",
   "metadata": {},
   "outputs": [
    {
     "data": {
      "text/plain": [
       "tensor([[0.4516, 0.9611],\n",
       "        [1.2145, 0.9671]])"
      ]
     },
     "execution_count": 21,
     "metadata": {},
     "output_type": "execute_result"
    }
   ],
   "source": [
    "# inplace addition or the addition will change the variable\n",
    "# all functions with \"_\" does inplace\n",
    "y.add_(x)"
   ]
  },
  {
   "cell_type": "markdown",
   "id": "6ea0906c-6005-4b42-8129-5b095f5e9d1d",
   "metadata": {},
   "source": [
    "# Slicing operations"
   ]
  },
  {
   "cell_type": "code",
   "execution_count": 22,
   "id": "adb2933c-16a8-4d3d-815a-3fc57cff08dc",
   "metadata": {},
   "outputs": [
    {
     "data": {
      "text/plain": [
       "tensor([[0.8506, 0.3437, 0.8123],\n",
       "        [0.4783, 0.3072, 0.2884],\n",
       "        [0.1011, 0.2322, 0.6806],\n",
       "        [0.9951, 0.2715, 0.6688],\n",
       "        [0.6174, 0.3537, 0.0330]])"
      ]
     },
     "execution_count": 22,
     "metadata": {},
     "output_type": "execute_result"
    }
   ],
   "source": [
    "# slicing operations\n",
    "x = torch.rand(5,3)\n",
    "x"
   ]
  },
  {
   "cell_type": "code",
   "execution_count": 23,
   "id": "89a5f078-7551-4f5e-8be1-00ac09f25ece",
   "metadata": {},
   "outputs": [
    {
     "data": {
      "text/plain": [
       "tensor([0.8506, 0.4783, 0.1011, 0.9951, 0.6174])"
      ]
     },
     "execution_count": 23,
     "metadata": {},
     "output_type": "execute_result"
    }
   ],
   "source": [
    "x[:, 0] # row, column"
   ]
  },
  {
   "cell_type": "code",
   "execution_count": 24,
   "id": "bcc33f7b-f9fa-41ba-84fd-43abd58628f3",
   "metadata": {},
   "outputs": [
    {
     "data": {
      "text/plain": [
       "tensor(0.3072)"
      ]
     },
     "execution_count": 24,
     "metadata": {},
     "output_type": "execute_result"
    }
   ],
   "source": [
    "x[1,1]"
   ]
  },
  {
   "cell_type": "code",
   "execution_count": 25,
   "id": "5122b335-6488-4f59-bcea-abfc0a41448a",
   "metadata": {},
   "outputs": [
    {
     "data": {
      "text/plain": [
       "0.3072124123573303"
      ]
     },
     "execution_count": 25,
     "metadata": {},
     "output_type": "execute_result"
    }
   ],
   "source": [
    "x[1,1].item()"
   ]
  },
  {
   "cell_type": "markdown",
   "id": "3ae4e0e5-c1c9-46b5-9f95-829e5367fe5e",
   "metadata": {},
   "source": [
    "# Reshape"
   ]
  },
  {
   "cell_type": "code",
   "execution_count": 26,
   "id": "cb4bbd14-40e5-4c40-b278-d47ca6bd2969",
   "metadata": {},
   "outputs": [
    {
     "data": {
      "text/plain": [
       "tensor([[0.8506, 0.3437, 0.8123],\n",
       "        [0.4783, 0.3072, 0.2884],\n",
       "        [0.1011, 0.2322, 0.6806],\n",
       "        [0.9951, 0.2715, 0.6688],\n",
       "        [0.6174, 0.3537, 0.0330]])"
      ]
     },
     "execution_count": 26,
     "metadata": {},
     "output_type": "execute_result"
    }
   ],
   "source": [
    "x"
   ]
  },
  {
   "cell_type": "code",
   "execution_count": 30,
   "id": "21d3c4a7-8241-45f7-84cc-baac86d2dbc1",
   "metadata": {},
   "outputs": [
    {
     "data": {
      "text/plain": [
       "tensor([0.8506, 0.3437, 0.8123, 0.4783, 0.3072, 0.2884, 0.1011, 0.2322, 0.6806,\n",
       "        0.9951, 0.2715, 0.6688, 0.6174, 0.3537, 0.0330])"
      ]
     },
     "execution_count": 30,
     "metadata": {},
     "output_type": "execute_result"
    }
   ],
   "source": [
    "x.view(15) # because x size is 5,3. we can out all the values in 1 dimension"
   ]
  },
  {
   "cell_type": "code",
   "execution_count": 33,
   "id": "7fb6fd4f-0920-49a9-9dd8-5580128fa775",
   "metadata": {},
   "outputs": [
    {
     "data": {
      "text/plain": [
       "tensor([[0.8506, 0.3437, 0.8123],\n",
       "        [0.4783, 0.3072, 0.2884],\n",
       "        [0.1011, 0.2322, 0.6806],\n",
       "        [0.9951, 0.2715, 0.6688],\n",
       "        [0.6174, 0.3537, 0.0330]])"
      ]
     },
     "execution_count": 33,
     "metadata": {},
     "output_type": "execute_result"
    }
   ],
   "source": [
    "x.view(-1, 3) # -1 cause we are reshaping, 3 would be column"
   ]
  },
  {
   "cell_type": "code",
   "execution_count": 34,
   "id": "7ec65064-7086-4a91-82fb-dc4629053d3e",
   "metadata": {},
   "outputs": [
    {
     "data": {
      "text/plain": [
       "tensor([[0.8506, 0.3437, 0.8123, 0.4783, 0.3072],\n",
       "        [0.2884, 0.1011, 0.2322, 0.6806, 0.9951],\n",
       "        [0.2715, 0.6688, 0.6174, 0.3537, 0.0330]])"
      ]
     },
     "execution_count": 34,
     "metadata": {},
     "output_type": "execute_result"
    }
   ],
   "source": [
    "x.view(-1, 5)"
   ]
  },
  {
   "cell_type": "markdown",
   "id": "af91210c-904b-4ff2-9071-b9ef433c1038",
   "metadata": {},
   "source": [
    "# Numpy to torch and vice-versa"
   ]
  },
  {
   "cell_type": "code",
   "execution_count": 35,
   "id": "7b0654bc-c627-4395-afbf-30a42949bef7",
   "metadata": {},
   "outputs": [],
   "source": [
    "import numpy as np"
   ]
  },
  {
   "cell_type": "code",
   "execution_count": 36,
   "id": "315157bf-fbfa-4376-9ff1-030e37ce0a0c",
   "metadata": {},
   "outputs": [
    {
     "data": {
      "text/plain": [
       "tensor([1., 1., 1., 1., 1.])"
      ]
     },
     "execution_count": 36,
     "metadata": {},
     "output_type": "execute_result"
    }
   ],
   "source": [
    "a = torch.ones(5)\n",
    "a"
   ]
  },
  {
   "cell_type": "code",
   "execution_count": 37,
   "id": "45e44758-9ef9-418e-8bf2-36d1600760f7",
   "metadata": {},
   "outputs": [
    {
     "data": {
      "text/plain": [
       "array([1., 1., 1., 1., 1.], dtype=float32)"
      ]
     },
     "execution_count": 37,
     "metadata": {},
     "output_type": "execute_result"
    }
   ],
   "source": [
    "# if tensor is in cpu, the new numpy array will only have a reference\n",
    "b = a.numpy()\n",
    "b"
   ]
  },
  {
   "cell_type": "code",
   "execution_count": 38,
   "id": "e57dd40a-94ec-44da-b63e-8021d20220a5",
   "metadata": {},
   "outputs": [
    {
     "data": {
      "text/plain": [
       "array([1., 1., 1., 1., 1.])"
      ]
     },
     "execution_count": 38,
     "metadata": {},
     "output_type": "execute_result"
    }
   ],
   "source": [
    "b = np.ones(5)\n",
    "b"
   ]
  },
  {
   "cell_type": "code",
   "execution_count": 39,
   "id": "9b88d908-3cb8-469c-9abe-1537bcf652e5",
   "metadata": {},
   "outputs": [
    {
     "data": {
      "text/plain": [
       "tensor([1., 1., 1., 1., 1.], dtype=torch.float64)"
      ]
     },
     "execution_count": 39,
     "metadata": {},
     "output_type": "execute_result"
    }
   ],
   "source": [
    "torch.from_numpy(b) # by default data type will be float64"
   ]
  },
  {
   "cell_type": "code",
   "execution_count": 42,
   "id": "510ff447-7e03-4d7a-8852-50a0898285d1",
   "metadata": {},
   "outputs": [
    {
     "data": {
      "text/plain": [
       "False"
      ]
     },
     "execution_count": 42,
     "metadata": {},
     "output_type": "execute_result"
    }
   ],
   "source": [
    "# check cuda\n",
    "torch.cuda.is_available()"
   ]
  },
  {
   "cell_type": "code",
   "execution_count": 44,
   "id": "61bb8c55-f757-4bdf-b396-e84c69c94a62",
   "metadata": {},
   "outputs": [],
   "source": [
    "# to pass it in gpu\n",
    "# x = torch.ones(5, device = torch.device(\"cuda\")) or x.to(device)\n",
    "# numpy can only handle cpu tensor"
   ]
  },
  {
   "cell_type": "code",
   "execution_count": 46,
   "id": "03deb367-e334-4640-bbb7-7163677299c0",
   "metadata": {},
   "outputs": [
    {
     "data": {
      "text/plain": [
       "tensor([1., 1., 1., 1., 1.], requires_grad=True)"
      ]
     },
     "execution_count": 46,
     "metadata": {},
     "output_type": "execute_result"
    }
   ],
   "source": [
    "x = torch.ones(5, requires_grad = True) # calculate gradient for later to optimize\n",
    "x"
   ]
  }
 ],
 "metadata": {
  "kernelspec": {
   "display_name": "Python 3 (ipykernel)",
   "language": "python",
   "name": "python3"
  },
  "language_info": {
   "codemirror_mode": {
    "name": "ipython",
    "version": 3
   },
   "file_extension": ".py",
   "mimetype": "text/x-python",
   "name": "python",
   "nbconvert_exporter": "python",
   "pygments_lexer": "ipython3",
   "version": "3.10.13"
  }
 },
 "nbformat": 4,
 "nbformat_minor": 5
}
