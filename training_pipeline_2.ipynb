{
 "cells": [
  {
   "cell_type": "markdown",
   "id": "f2aaf19a-8f72-44c4-a4ad-e6e37e321582",
   "metadata": {},
   "source": [
    "# Design model - \n",
    "- input and output size as parameter\n",
    "- in_features\n",
    "- out_features\n",
    "- random w and b(bias)\n",
    "## training loop : \n",
    "- forward pass computes pred\n",
    "- get loss\n",
    "- backward pass computes gradient for loss based on input w\n",
    "- update w, b\n",
    "\n",
    "Refrence : https://docs.kanaries.net/topics/Python/nn-linear"
   ]
  },
  {
   "cell_type": "code",
   "execution_count": 1,
   "id": "51d67f8c-86ce-4da8-9002-58440f0db1ce",
   "metadata": {},
   "outputs": [],
   "source": [
    "import torch\n",
    "import torch.nn as nn"
   ]
  },
  {
   "cell_type": "code",
   "execution_count": null,
   "id": "5d4e714f-c2c9-4433-adba-ad6922f9d4ca",
   "metadata": {},
   "outputs": [],
   "source": [
    "# function f = w * x (weight, input)\n",
    "# f = 2 * x"
   ]
  },
  {
   "cell_type": "code",
   "execution_count": 9,
   "id": "f6b98dcc-6687-4ac0-a386-81427bf62efe",
   "metadata": {},
   "outputs": [],
   "source": [
    "X = torch.tensor([1,2,3,4], dtype = torch.float32)\n",
    "Y = torch.tensor([2,4,6,8], dtype = torch.float32)\n",
    "w = torch.tensor(0.0, dtype = torch.float32, requires_grad = True) # weight"
   ]
  },
  {
   "cell_type": "code",
   "execution_count": 10,
   "id": "5a9d5d04-d1ce-4b8b-ae18-5662273eab94",
   "metadata": {},
   "outputs": [],
   "source": [
    "# model prediction\n",
    "def forward(x):\n",
    "    return w * x # based on fucntion f = w*x"
   ]
  },
  {
   "cell_type": "code",
   "execution_count": 11,
   "id": "e3f0d010-7a80-4646-9b84-6d6e523cfae2",
   "metadata": {},
   "outputs": [
    {
     "data": {
      "text/plain": [
       "tensor(0., grad_fn=<MulBackward0>)"
      ]
     },
     "execution_count": 11,
     "metadata": {},
     "output_type": "execute_result"
    }
   ],
   "source": [
    "forward(5)"
   ]
  },
  {
   "cell_type": "code",
   "execution_count": 18,
   "id": "5325139a-65b0-4445-8e65-157407fdf89f",
   "metadata": {},
   "outputs": [
    {
     "name": "stdout",
     "output_type": "stream",
     "text": [
      "epoch 1 : w = 1.9999996423721313, loss = 0.00000000\n",
      "epoch 2 : w = 1.9999996423721313, loss = 0.00000000\n",
      "epoch 3 : w = 1.9999996423721313, loss = 0.00000000\n",
      "epoch 4 : w = 1.9999996423721313, loss = 0.00000000\n",
      "epoch 5 : w = 1.9999996423721313, loss = 0.00000000\n",
      "epoch 6 : w = 1.9999996423721313, loss = 0.00000000\n",
      "epoch 7 : w = 1.9999996423721313, loss = 0.00000000\n",
      "epoch 8 : w = 1.9999996423721313, loss = 0.00000000\n",
      "epoch 9 : w = 1.9999996423721313, loss = 0.00000000\n",
      "epoch 10 : w = 1.9999996423721313, loss = 0.00000000\n",
      "epoch 11 : w = 1.9999996423721313, loss = 0.00000000\n",
      "epoch 12 : w = 1.9999996423721313, loss = 0.00000000\n",
      "epoch 13 : w = 1.9999996423721313, loss = 0.00000000\n",
      "epoch 14 : w = 1.9999996423721313, loss = 0.00000000\n",
      "epoch 15 : w = 1.9999996423721313, loss = 0.00000000\n",
      "epoch 16 : w = 1.9999996423721313, loss = 0.00000000\n",
      "epoch 17 : w = 1.9999996423721313, loss = 0.00000000\n",
      "epoch 18 : w = 1.9999996423721313, loss = 0.00000000\n",
      "epoch 19 : w = 1.9999996423721313, loss = 0.00000000\n",
      "epoch 20 : w = 1.9999996423721313, loss = 0.00000000\n",
      "prediction : 9.999998092651367\n"
     ]
    }
   ],
   "source": [
    "# training\n",
    "lr = 0.01\n",
    "iter = 20\n",
    "loss = nn.MSELoss()\n",
    "optimizer = torch.optim.SGD([w], lr = lr)\n",
    "# basically this iteration is to optimize weight\n",
    "for epoch in range(iter):\n",
    "    y_pred = forward(X) # forward pass\n",
    "    l = loss(Y, y_pred) # output/loss function\n",
    "    l.backward() # calculating gradient\n",
    "    optimizer.step() # optimizing w\n",
    "    optimizer.zero_grad() # empty grad\n",
    "    print(f\"epoch {epoch + 1} : w = {w}, loss = {l:.8f}\")\n",
    "\n",
    "print(f\"prediction : {forward(5)}\")\n",
    "    "
   ]
  },
  {
   "cell_type": "markdown",
   "id": "b38022d6-1672-4636-83d5-b7f37e0e8f37",
   "metadata": {},
   "source": [
    "# Everyhting from pytorch"
   ]
  },
  {
   "cell_type": "code",
   "execution_count": 20,
   "id": "2a2ff18f-5b78-451d-a9b3-7c4c2a34301b",
   "metadata": {},
   "outputs": [],
   "source": [
    "X = torch.tensor([[1],[2],[3],[4]], dtype = torch.float32)\n",
    "Y = torch.tensor([[2],[4],[6],[8]], dtype = torch.float32)"
   ]
  },
  {
   "cell_type": "code",
   "execution_count": 21,
   "id": "4da8d252-97ca-4e39-82ad-2bfdfe61ad73",
   "metadata": {},
   "outputs": [
    {
     "data": {
      "text/plain": [
       "(4, 1)"
      ]
     },
     "execution_count": 21,
     "metadata": {},
     "output_type": "execute_result"
    }
   ],
   "source": [
    "n_samples, n_features = X.shape\n",
    "n_samples, n_features"
   ]
  },
  {
   "cell_type": "code",
   "execution_count": 23,
   "id": "d95f2890-83ce-444c-a7be-92fd87a33d7e",
   "metadata": {},
   "outputs": [
    {
     "data": {
      "text/plain": [
       "tensor([3.9662], grad_fn=<ViewBackward0>)"
      ]
     },
     "execution_count": 23,
     "metadata": {},
     "output_type": "execute_result"
    }
   ],
   "source": [
    "model = nn.Linear(n_features, n_features) # number of cases\n",
    "model(torch.tensor([5], dtype = torch.float32)) # prediction before training"
   ]
  },
  {
   "cell_type": "code",
   "execution_count": 33,
   "id": "52511391-4042-4486-8410-cfd8973bf9b7",
   "metadata": {},
   "outputs": [],
   "source": [
    "# # custom model\n",
    "# class LinearRegression(nn.Module):\n",
    "#     def __init__(self, input_dim, output_dim):\n",
    "#         super(LinearRegression, self).__init__()\n",
    "#         # define layer\n",
    "#         self.lin = nn.Linear(input_dim, output_dim)\n",
    "#     def forward(self, x):\n",
    "#         rturn self.lin(x)\n",
    "\n",
    "# model = LinearRegression(input_size, output_size)"
   ]
  },
  {
   "cell_type": "code",
   "execution_count": 26,
   "id": "0271107c-511a-4b57-a067-5bbdfae9148a",
   "metadata": {},
   "outputs": [
    {
     "data": {
      "text/plain": [
       "tensor([10.0155], grad_fn=<ViewBackward0>)"
      ]
     },
     "execution_count": 26,
     "metadata": {},
     "output_type": "execute_result"
    }
   ],
   "source": [
    "lr = 0.01\n",
    "i = 20\n",
    "loss = nn.MSELoss()\n",
    "optimizer = torch.optim.SGD(model.parameters(), lr = lr)\n",
    "\n",
    "for epoch in range(i):\n",
    "    y_pred = model(X)\n",
    "    l = loss(Y, y_pred)\n",
    "    l.backward()\n",
    "    optimizer.step()\n",
    "    optimizer.zero_grad()\n",
    "model(torch.tensor([5], dtype = torch.float32))"
   ]
  },
  {
   "cell_type": "code",
   "execution_count": 27,
   "id": "307b156b-ec8c-4de9-876d-fe259e62fc11",
   "metadata": {},
   "outputs": [
    {
     "data": {
      "text/plain": [
       "<bound method Module.parameters of Linear(in_features=1, out_features=1, bias=True)>"
      ]
     },
     "execution_count": 27,
     "metadata": {},
     "output_type": "execute_result"
    }
   ],
   "source": [
    "model.parameters"
   ]
  },
  {
   "cell_type": "code",
   "execution_count": 31,
   "id": "d82fbf9f-06e7-4351-82ee-49a1d56b1db6",
   "metadata": {},
   "outputs": [
    {
     "data": {
      "text/plain": [
       "Parameter containing:\n",
       "tensor([[2.0555]], requires_grad=True)"
      ]
     },
     "execution_count": 31,
     "metadata": {},
     "output_type": "execute_result"
    }
   ],
   "source": [
    "model.weight"
   ]
  },
  {
   "cell_type": "code",
   "execution_count": 32,
   "id": "f8a1df08-883b-4a06-adf8-84004f55f4c0",
   "metadata": {},
   "outputs": [
    {
     "data": {
      "text/plain": [
       "-0.2621111273765564"
      ]
     },
     "execution_count": 32,
     "metadata": {},
     "output_type": "execute_result"
    }
   ],
   "source": [
    "model.bias.item()"
   ]
  }
 ],
 "metadata": {
  "kernelspec": {
   "display_name": "Python 3 (ipykernel)",
   "language": "python",
   "name": "python3"
  },
  "language_info": {
   "codemirror_mode": {
    "name": "ipython",
    "version": 3
   },
   "file_extension": ".py",
   "mimetype": "text/x-python",
   "name": "python",
   "nbconvert_exporter": "python",
   "pygments_lexer": "ipython3",
   "version": "3.10.13"
  }
 },
 "nbformat": 4,
 "nbformat_minor": 5
}
